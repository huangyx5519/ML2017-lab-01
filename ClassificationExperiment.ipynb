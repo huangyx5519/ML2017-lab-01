{
 "cells": [
  {
   "cell_type": "code",
   "execution_count": null,
   "metadata": {},
   "outputs": [],
   "source": [
    "from sklearn.datasets import load_svmlight_file\n",
    "from numpy import *\n",
    "%matplotlib inline\n",
    "import matplotlib.pyplot as plt\n",
    "import numpy as np\n",
    "\n",
    "t_X,t_y=load_svmlight_file(\"/Users/hyx/Desktop/machinelearning/project1/australian.txt\")\n",
    "t_X=t_X.todense()  #转化为普通矩阵\n",
    "\n",
    "t_X_column_num=t_X[0].size\n",
    "t_X_row_num=int(t_X.size/t_X_column_num)\n",
    "\n",
    "ones_column = ones((t_X_row_num,1)) \n",
    "t_X=hstack((ones_column,t_X))\n",
    "t_X_column_num +=1  #矩阵加一列1\n",
    "\n",
    "#将数据集切分为训练集和验证集\n",
    "from sklearn.model_selection import train_test_split\n",
    "X_train, X_test, y_train, y_test = train_test_split( t_X, t_y, test_size=0.33, random_state=3)\n",
    "\n",
    "\n",
    "#w全零初始化\n",
    "w = zeros((1,t_X_column_num))\n",
    "w_temple=zeros((1,t_X_column_num))\n",
    "\n",
    "eta = 0.0008125\n",
    "\n",
    "train_size = y_train.size\n",
    "test_size=y_test.size\n",
    "\n",
    "#定义函数c()\n",
    "def c(x,y,w):\n",
    "    if(y*(w*x.T)<1):\n",
    "        return -y\n",
    "    return 0\n",
    "\n",
    "#用于图显示\n",
    "p_x = []\n",
    "p_train_loss = []\n",
    "p_validation_loss = []\n",
    "\n",
    "\n",
    "for j in range(80):\n",
    "    for i in range(train_size):\n",
    "        w_temple=w_temple-(eta*(c(X_train[i],y_train[i],w_temple))*X_train[i])\n",
    "    w=w_temple\n",
    "    \n",
    "    #计算train loss\n",
    "    train_loss=0\n",
    "    for lp in range(train_size):\n",
    "        train_loss += float(max(0,1-y_train[lp]*(w*X_train[lp].T)))/train_size  \n",
    "    p_x.append(j+1)\n",
    "    p_train_loss.append(train_loss)\n",
    "    \n",
    "    #计算validation loss\n",
    "    validation_loss=0\n",
    "    for lp2 in range(test_size):\n",
    "        validation_loss += float(max(0,1-y_test[lp2]*(w*X_test[lp2].T)))/test_size  \n",
    "    p_validation_loss.append(validation_loss)\n",
    "    \n",
    "    \n",
    "plt.plot(p_x, p_train_loss,label=\"train loss\")\n",
    "plt.plot(p_x, p_validation_loss,label=\"validation loss\")\n",
    "plt.title('graph of Ltrain as well as Lvalidation with the number of iterations')\n",
    "plt.ylabel('loss')\n",
    "plt.xlabel('the number of iterations')\n",
    "print(' blue for train loss\\n orange for validation loss')\n",
    "# print('train loss:',p_train_loss)\n",
    "# print('validation loss:',p_validation_loss)"
   ]
  },
  {
   "cell_type": "code",
   "execution_count": null,
   "metadata": {},
   "outputs": [],
   "source": []
  },
  {
   "cell_type": "code",
   "execution_count": null,
   "metadata": {
    "collapsed": true
   },
   "outputs": [],
   "source": []
  },
  {
   "cell_type": "code",
   "execution_count": null,
   "metadata": {
    "collapsed": true
   },
   "outputs": [],
   "source": []
  },
  {
   "cell_type": "code",
   "execution_count": null,
   "metadata": {
    "collapsed": true
   },
   "outputs": [],
   "source": []
  },
  {
   "cell_type": "code",
   "execution_count": null,
   "metadata": {
    "collapsed": true
   },
   "outputs": [],
   "source": []
  }
 ],
 "metadata": {
  "kernelspec": {
   "display_name": "Python 3",
   "language": "python",
   "name": "python3"
  },
  "language_info": {
   "codemirror_mode": {
    "name": "ipython",
    "version": 3
   },
   "file_extension": ".py",
   "mimetype": "text/x-python",
   "name": "python",
   "nbconvert_exporter": "python",
   "pygments_lexer": "ipython3",
   "version": "3.6.3"
  }
 },
 "nbformat": 4,
 "nbformat_minor": 2
}
